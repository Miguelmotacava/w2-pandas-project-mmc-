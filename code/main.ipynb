{
 "cells": [
  {
   "cell_type": "code",
   "execution_count": 1,
   "id": "bf775252",
   "metadata": {},
   "outputs": [],
   "source": [
    "# Archivo del proyeto w2-pandas-project"
   ]
  },
  {
   "cell_type": "code",
   "execution_count": 2,
   "id": "a72d04c5",
   "metadata": {},
   "outputs": [],
   "source": [
    "#import libraries\n",
    "\n",
    "import numpy as np\n",
    "import pandas as pd\n",
    "import re\n",
    "\n",
    "import warnings\n",
    "warnings.filterwarnings('ignore')\n",
    "\n",
    "pd.set_option('display.max_columns', None) "
   ]
  },
  {
   "cell_type": "code",
   "execution_count": 3,
   "id": "64a0d06d",
   "metadata": {},
   "outputs": [],
   "source": [
    "# creation of a new variable (path) which contains the path of the file it is going to be analyse (attacks.csv)\n",
    "\n",
    "path = '../data/attacks.csv'\n",
    "\n",
    "dattacks = pd.read_csv(path, encoding='windows-1252')"
   ]
  },
  {
   "cell_type": "code",
   "execution_count": 4,
   "id": "8f2d4f0c",
   "metadata": {},
   "outputs": [
    {
     "data": {
      "text/html": [
       "<div>\n",
       "<style scoped>\n",
       "    .dataframe tbody tr th:only-of-type {\n",
       "        vertical-align: middle;\n",
       "    }\n",
       "\n",
       "    .dataframe tbody tr th {\n",
       "        vertical-align: top;\n",
       "    }\n",
       "\n",
       "    .dataframe thead th {\n",
       "        text-align: right;\n",
       "    }\n",
       "</style>\n",
       "<table border=\"1\" class=\"dataframe\">\n",
       "  <thead>\n",
       "    <tr style=\"text-align: right;\">\n",
       "      <th></th>\n",
       "      <th>Case Number</th>\n",
       "      <th>Date</th>\n",
       "      <th>Year</th>\n",
       "      <th>Type</th>\n",
       "      <th>Country</th>\n",
       "      <th>Area</th>\n",
       "      <th>Location</th>\n",
       "      <th>Activity</th>\n",
       "      <th>Name</th>\n",
       "      <th>Sex</th>\n",
       "      <th>Age</th>\n",
       "      <th>Injury</th>\n",
       "      <th>Fatal (Y/N)</th>\n",
       "      <th>Time</th>\n",
       "      <th>Species</th>\n",
       "      <th>Investigator or Source</th>\n",
       "      <th>pdf</th>\n",
       "      <th>href formula</th>\n",
       "      <th>href</th>\n",
       "      <th>Case Number.1</th>\n",
       "      <th>Case Number.2</th>\n",
       "      <th>original order</th>\n",
       "      <th>Unnamed: 22</th>\n",
       "      <th>Unnamed: 23</th>\n",
       "    </tr>\n",
       "  </thead>\n",
       "  <tbody>\n",
       "    <tr>\n",
       "      <th>0</th>\n",
       "      <td>2018.06.25</td>\n",
       "      <td>25-Jun-2018</td>\n",
       "      <td>2018.0</td>\n",
       "      <td>Boating</td>\n",
       "      <td>USA</td>\n",
       "      <td>California</td>\n",
       "      <td>Oceanside, San Diego County</td>\n",
       "      <td>Paddling</td>\n",
       "      <td>Julie Wolfe</td>\n",
       "      <td>F</td>\n",
       "      <td>57</td>\n",
       "      <td>No injury to occupant, outrigger canoe and pad...</td>\n",
       "      <td>N</td>\n",
       "      <td>18h00</td>\n",
       "      <td>White shark</td>\n",
       "      <td>R. Collier, GSAF</td>\n",
       "      <td>2018.06.25-Wolfe.pdf</td>\n",
       "      <td>http://sharkattackfile.net/spreadsheets/pdf_di...</td>\n",
       "      <td>http://sharkattackfile.net/spreadsheets/pdf_di...</td>\n",
       "      <td>2018.06.25</td>\n",
       "      <td>2018.06.25</td>\n",
       "      <td>6303.0</td>\n",
       "      <td>NaN</td>\n",
       "      <td>NaN</td>\n",
       "    </tr>\n",
       "    <tr>\n",
       "      <th>1</th>\n",
       "      <td>2018.06.18</td>\n",
       "      <td>18-Jun-2018</td>\n",
       "      <td>2018.0</td>\n",
       "      <td>Unprovoked</td>\n",
       "      <td>USA</td>\n",
       "      <td>Georgia</td>\n",
       "      <td>St. Simon Island, Glynn County</td>\n",
       "      <td>Standing</td>\n",
       "      <td>Adyson McNeely</td>\n",
       "      <td>F</td>\n",
       "      <td>11</td>\n",
       "      <td>Minor injury to left thigh</td>\n",
       "      <td>N</td>\n",
       "      <td>14h00  -15h00</td>\n",
       "      <td>NaN</td>\n",
       "      <td>K.McMurray, TrackingSharks.com</td>\n",
       "      <td>2018.06.18-McNeely.pdf</td>\n",
       "      <td>http://sharkattackfile.net/spreadsheets/pdf_di...</td>\n",
       "      <td>http://sharkattackfile.net/spreadsheets/pdf_di...</td>\n",
       "      <td>2018.06.18</td>\n",
       "      <td>2018.06.18</td>\n",
       "      <td>6302.0</td>\n",
       "      <td>NaN</td>\n",
       "      <td>NaN</td>\n",
       "    </tr>\n",
       "    <tr>\n",
       "      <th>2</th>\n",
       "      <td>2018.06.09</td>\n",
       "      <td>09-Jun-2018</td>\n",
       "      <td>2018.0</td>\n",
       "      <td>Invalid</td>\n",
       "      <td>USA</td>\n",
       "      <td>Hawaii</td>\n",
       "      <td>Habush, Oahu</td>\n",
       "      <td>Surfing</td>\n",
       "      <td>John Denges</td>\n",
       "      <td>M</td>\n",
       "      <td>48</td>\n",
       "      <td>Injury to left lower leg from surfboard skeg</td>\n",
       "      <td>N</td>\n",
       "      <td>07h45</td>\n",
       "      <td>NaN</td>\n",
       "      <td>K.McMurray, TrackingSharks.com</td>\n",
       "      <td>2018.06.09-Denges.pdf</td>\n",
       "      <td>http://sharkattackfile.net/spreadsheets/pdf_di...</td>\n",
       "      <td>http://sharkattackfile.net/spreadsheets/pdf_di...</td>\n",
       "      <td>2018.06.09</td>\n",
       "      <td>2018.06.09</td>\n",
       "      <td>6301.0</td>\n",
       "      <td>NaN</td>\n",
       "      <td>NaN</td>\n",
       "    </tr>\n",
       "    <tr>\n",
       "      <th>3</th>\n",
       "      <td>2018.06.08</td>\n",
       "      <td>08-Jun-2018</td>\n",
       "      <td>2018.0</td>\n",
       "      <td>Unprovoked</td>\n",
       "      <td>AUSTRALIA</td>\n",
       "      <td>New South Wales</td>\n",
       "      <td>Arrawarra Headland</td>\n",
       "      <td>Surfing</td>\n",
       "      <td>male</td>\n",
       "      <td>M</td>\n",
       "      <td>NaN</td>\n",
       "      <td>Minor injury to lower leg</td>\n",
       "      <td>N</td>\n",
       "      <td>NaN</td>\n",
       "      <td>2 m shark</td>\n",
       "      <td>B. Myatt, GSAF</td>\n",
       "      <td>2018.06.08-Arrawarra.pdf</td>\n",
       "      <td>http://sharkattackfile.net/spreadsheets/pdf_di...</td>\n",
       "      <td>http://sharkattackfile.net/spreadsheets/pdf_di...</td>\n",
       "      <td>2018.06.08</td>\n",
       "      <td>2018.06.08</td>\n",
       "      <td>6300.0</td>\n",
       "      <td>NaN</td>\n",
       "      <td>NaN</td>\n",
       "    </tr>\n",
       "    <tr>\n",
       "      <th>4</th>\n",
       "      <td>2018.06.04</td>\n",
       "      <td>04-Jun-2018</td>\n",
       "      <td>2018.0</td>\n",
       "      <td>Provoked</td>\n",
       "      <td>MEXICO</td>\n",
       "      <td>Colima</td>\n",
       "      <td>La Ticla</td>\n",
       "      <td>Free diving</td>\n",
       "      <td>Gustavo Ramos</td>\n",
       "      <td>M</td>\n",
       "      <td>NaN</td>\n",
       "      <td>Lacerations to leg &amp; hand shark PROVOKED INCIDENT</td>\n",
       "      <td>N</td>\n",
       "      <td>NaN</td>\n",
       "      <td>Tiger shark, 3m</td>\n",
       "      <td>A .Kipper</td>\n",
       "      <td>2018.06.04-Ramos.pdf</td>\n",
       "      <td>http://sharkattackfile.net/spreadsheets/pdf_di...</td>\n",
       "      <td>http://sharkattackfile.net/spreadsheets/pdf_di...</td>\n",
       "      <td>2018.06.04</td>\n",
       "      <td>2018.06.04</td>\n",
       "      <td>6299.0</td>\n",
       "      <td>NaN</td>\n",
       "      <td>NaN</td>\n",
       "    </tr>\n",
       "  </tbody>\n",
       "</table>\n",
       "</div>"
      ],
      "text/plain": [
       "  Case Number         Date    Year        Type    Country             Area  \\\n",
       "0  2018.06.25  25-Jun-2018  2018.0     Boating        USA       California   \n",
       "1  2018.06.18  18-Jun-2018  2018.0  Unprovoked        USA          Georgia   \n",
       "2  2018.06.09  09-Jun-2018  2018.0     Invalid        USA           Hawaii   \n",
       "3  2018.06.08  08-Jun-2018  2018.0  Unprovoked  AUSTRALIA  New South Wales   \n",
       "4  2018.06.04  04-Jun-2018  2018.0    Provoked     MEXICO           Colima   \n",
       "\n",
       "                         Location     Activity             Name Sex   Age  \\\n",
       "0     Oceanside, San Diego County     Paddling      Julie Wolfe    F   57   \n",
       "1  St. Simon Island, Glynn County     Standing  Adyson McNeely     F   11   \n",
       "2                    Habush, Oahu      Surfing      John Denges    M   48   \n",
       "3              Arrawarra Headland      Surfing             male    M  NaN   \n",
       "4                        La Ticla  Free diving   Gustavo Ramos     M  NaN   \n",
       "\n",
       "                                              Injury Fatal (Y/N)  \\\n",
       "0  No injury to occupant, outrigger canoe and pad...           N   \n",
       "1                         Minor injury to left thigh           N   \n",
       "2       Injury to left lower leg from surfboard skeg           N   \n",
       "3                          Minor injury to lower leg           N   \n",
       "4  Lacerations to leg & hand shark PROVOKED INCIDENT           N   \n",
       "\n",
       "            Time         Species           Investigator or Source  \\\n",
       "0          18h00      White shark                R. Collier, GSAF   \n",
       "1  14h00  -15h00              NaN  K.McMurray, TrackingSharks.com   \n",
       "2          07h45              NaN  K.McMurray, TrackingSharks.com   \n",
       "3            NaN        2 m shark                  B. Myatt, GSAF   \n",
       "4            NaN  Tiger shark, 3m                       A .Kipper   \n",
       "\n",
       "                        pdf  \\\n",
       "0      2018.06.25-Wolfe.pdf   \n",
       "1    2018.06.18-McNeely.pdf   \n",
       "2     2018.06.09-Denges.pdf   \n",
       "3  2018.06.08-Arrawarra.pdf   \n",
       "4      2018.06.04-Ramos.pdf   \n",
       "\n",
       "                                        href formula  \\\n",
       "0  http://sharkattackfile.net/spreadsheets/pdf_di...   \n",
       "1  http://sharkattackfile.net/spreadsheets/pdf_di...   \n",
       "2  http://sharkattackfile.net/spreadsheets/pdf_di...   \n",
       "3  http://sharkattackfile.net/spreadsheets/pdf_di...   \n",
       "4  http://sharkattackfile.net/spreadsheets/pdf_di...   \n",
       "\n",
       "                                                href Case Number.1  \\\n",
       "0  http://sharkattackfile.net/spreadsheets/pdf_di...    2018.06.25   \n",
       "1  http://sharkattackfile.net/spreadsheets/pdf_di...    2018.06.18   \n",
       "2  http://sharkattackfile.net/spreadsheets/pdf_di...    2018.06.09   \n",
       "3  http://sharkattackfile.net/spreadsheets/pdf_di...    2018.06.08   \n",
       "4  http://sharkattackfile.net/spreadsheets/pdf_di...    2018.06.04   \n",
       "\n",
       "  Case Number.2  original order Unnamed: 22 Unnamed: 23  \n",
       "0    2018.06.25          6303.0         NaN         NaN  \n",
       "1    2018.06.18          6302.0         NaN         NaN  \n",
       "2    2018.06.09          6301.0         NaN         NaN  \n",
       "3    2018.06.08          6300.0         NaN         NaN  \n",
       "4    2018.06.04          6299.0         NaN         NaN  "
      ]
     },
     "execution_count": 4,
     "metadata": {},
     "output_type": "execute_result"
    }
   ],
   "source": [
    "# comprobation of the existence of the dataset and first look at it\n",
    "dattacks.head()"
   ]
  },
  {
   "cell_type": "code",
   "execution_count": 5,
   "id": "7800200d",
   "metadata": {},
   "outputs": [
    {
     "data": {
      "text/plain": [
       "(25723, 24)"
      ]
     },
     "execution_count": 5,
     "metadata": {},
     "output_type": "execute_result"
    }
   ],
   "source": [
    "# before starting the analysis we are going to make a copy of our original data and see its dimensions\n",
    "\n",
    "dattacks_original = dattacks.copy()\n",
    "dimension_original = dattacks_original.shape\n",
    "dimension_original"
   ]
  },
  {
   "cell_type": "code",
   "execution_count": 6,
   "id": "4671b7fe",
   "metadata": {},
   "outputs": [],
   "source": [
    "# we see there are 25723 rows and 24 columns."
   ]
  },
  {
   "cell_type": "code",
   "execution_count": 7,
   "id": "34bd328e",
   "metadata": {},
   "outputs": [],
   "source": [
    "# changes in the names in the columns in order to standardise them\n",
    "\n",
    "columnas = list(dattacks.columns)\n",
    "cols = []\n",
    "\n",
    "for i in columnas:\n",
    "    \n",
    "    i = i.lower()\n",
    "    i = i.replace(\" \",\"_\")\n",
    "    i = i.replace(\":\",\"\")\n",
    "    i = i.replace(\".\",\"_\")\n",
    "    cols.append(i)\n",
    "    \n",
    "    \n",
    "cols[9] = cols[9].replace(\"_\",\"\")\n",
    "cols[14] = cols[14].replace(\"_\",\"\")\n",
    "\n",
    "\n",
    "for i in range(len(cols)):\n",
    "    \n",
    "    dattacks.rename(columns = {columnas[i]:cols[i]}, inplace = True)"
   ]
  },
  {
   "cell_type": "code",
   "execution_count": 8,
   "id": "e0f9627d",
   "metadata": {},
   "outputs": [
    {
     "name": "stdout",
     "output_type": "stream",
     "text": [
      "<class 'pandas.core.frame.DataFrame'>\n",
      "RangeIndex: 25723 entries, 0 to 25722\n",
      "Data columns (total 24 columns):\n",
      " #   Column                  Non-Null Count  Dtype  \n",
      "---  ------                  --------------  -----  \n",
      " 0   case_number             8702 non-null   object \n",
      " 1   date                    6302 non-null   object \n",
      " 2   year                    6300 non-null   float64\n",
      " 3   type                    6298 non-null   object \n",
      " 4   country                 6252 non-null   object \n",
      " 5   area                    5847 non-null   object \n",
      " 6   location                5762 non-null   object \n",
      " 7   activity                5758 non-null   object \n",
      " 8   name                    6092 non-null   object \n",
      " 9   sex                     5737 non-null   object \n",
      " 10  age                     3471 non-null   object \n",
      " 11  injury                  6274 non-null   object \n",
      " 12  fatal_(y/n)             5763 non-null   object \n",
      " 13  time                    2948 non-null   object \n",
      " 14  species                 3464 non-null   object \n",
      " 15  investigator_or_source  6285 non-null   object \n",
      " 16  pdf                     6302 non-null   object \n",
      " 17  href_formula            6301 non-null   object \n",
      " 18  href                    6302 non-null   object \n",
      " 19  case_number_1           6302 non-null   object \n",
      " 20  case_number_2           6302 non-null   object \n",
      " 21  original_order          6309 non-null   float64\n",
      " 22  unnamed_22              1 non-null      object \n",
      " 23  unnamed_23              2 non-null      object \n",
      "dtypes: float64(2), object(22)\n",
      "memory usage: 22.8 MB\n"
     ]
    }
   ],
   "source": [
    "# now we procede to look into the data to see how in detail what we have\n",
    "\n",
    "dattacks.info(memory_usage ='deep')"
   ]
  },
  {
   "cell_type": "code",
   "execution_count": 9,
   "id": "d18b75b0",
   "metadata": {},
   "outputs": [],
   "source": [
    "#Every single column has a lot of nulls. This indicates that it is very probable we have to clean a lot of rows. Initial hypothesis: 17.000-20.000 should be deleted"
   ]
  },
  {
   "cell_type": "code",
   "execution_count": 10,
   "id": "4f5ddb76",
   "metadata": {},
   "outputs": [],
   "source": [
    "#the first step we are going to take is to delete the duplicate rows. This decision has been made base in the fact that every column has a los of nulls, so itis very probably there are several columns filled entire with nulls and we are going to delete them"
   ]
  },
  {
   "cell_type": "code",
   "execution_count": 11,
   "id": "1d6131c8",
   "metadata": {},
   "outputs": [],
   "source": [
    "# delete duplicate rows\n",
    "\n",
    "dattacks.drop_duplicates(inplace = True)"
   ]
  },
  {
   "cell_type": "code",
   "execution_count": 12,
   "id": "c91a3839",
   "metadata": {},
   "outputs": [
    {
     "data": {
      "text/plain": [
       "((6312, 24), (25723, 24))"
      ]
     },
     "execution_count": 12,
     "metadata": {},
     "output_type": "execute_result"
    }
   ],
   "source": [
    "# comparation of the new dimentions of the dataset\n",
    "\n",
    "dattacks.shape, dattacks_original.shape"
   ]
  },
  {
   "cell_type": "code",
   "execution_count": 13,
   "id": "cced0c5d",
   "metadata": {},
   "outputs": [],
   "source": [
    "# we have delete 19.000 rows aprox"
   ]
  },
  {
   "cell_type": "code",
   "execution_count": 14,
   "id": "3b2be518",
   "metadata": {},
   "outputs": [],
   "source": [
    "# we are going to look again into the dataset to visualice the situation"
   ]
  },
  {
   "cell_type": "code",
   "execution_count": 15,
   "id": "614088d9",
   "metadata": {
    "scrolled": true
   },
   "outputs": [
    {
     "name": "stdout",
     "output_type": "stream",
     "text": [
      "<class 'pandas.core.frame.DataFrame'>\n",
      "Int64Index: 6312 entries, 0 to 25722\n",
      "Data columns (total 24 columns):\n",
      " #   Column                  Non-Null Count  Dtype  \n",
      "---  ------                  --------------  -----  \n",
      " 0   case_number             6310 non-null   object \n",
      " 1   date                    6302 non-null   object \n",
      " 2   year                    6300 non-null   float64\n",
      " 3   type                    6298 non-null   object \n",
      " 4   country                 6252 non-null   object \n",
      " 5   area                    5847 non-null   object \n",
      " 6   location                5762 non-null   object \n",
      " 7   activity                5758 non-null   object \n",
      " 8   name                    6092 non-null   object \n",
      " 9   sex                     5737 non-null   object \n",
      " 10  age                     3471 non-null   object \n",
      " 11  injury                  6274 non-null   object \n",
      " 12  fatal_(y/n)             5763 non-null   object \n",
      " 13  time                    2948 non-null   object \n",
      " 14  species                 3464 non-null   object \n",
      " 15  investigator_or_source  6285 non-null   object \n",
      " 16  pdf                     6302 non-null   object \n",
      " 17  href_formula            6301 non-null   object \n",
      " 18  href                    6302 non-null   object \n",
      " 19  case_number_1           6302 non-null   object \n",
      " 20  case_number_2           6302 non-null   object \n",
      " 21  original_order          6309 non-null   float64\n",
      " 22  unnamed_22              1 non-null      object \n",
      " 23  unnamed_23              2 non-null      object \n",
      "dtypes: float64(2), object(22)\n",
      "memory usage: 9.4 MB\n"
     ]
    }
   ],
   "source": [
    "dattacks.info(memory_usage = 'deep')"
   ]
  },
  {
   "cell_type": "code",
   "execution_count": 16,
   "id": "3ea1764f",
   "metadata": {},
   "outputs": [],
   "source": [
    "# now we are going to select the columns we want to submit to study and eliminate any row that contains Nan values in any of the columns which have been chosen"
   ]
  },
  {
   "cell_type": "code",
   "execution_count": 17,
   "id": "d796fdf8",
   "metadata": {},
   "outputs": [],
   "source": [
    "c = list(dattacks[dattacks['country'].isna()].index) #\n",
    "d = list(dattacks[dattacks['date'].isna()].index) #\n",
    "t = list(dattacks[dattacks['type'].isna()].index) #\n",
    "s = list(dattacks[dattacks['sex'].isna()].index) #\n",
    "f = list(dattacks[dattacks['fatal_(y/n)'].isna()].index) #\n",
    "a = list(dattacks[dattacks['area'].isna()].index) #\n",
    "ti = list(dattacks[dattacks['time'].isna()].index) #\n",
    "sp = list(dattacks[dattacks['species'].isna()].index) #\n",
    "ca = list(dattacks[dattacks['case_number'].isna()].index) #\n",
    "\n",
    "deleted_rows = c+d+t+s+f+sp+a+ti+ca\n",
    "\n",
    "dattacks.drop(deleted_rows, axis = 0, inplace = True)"
   ]
  },
  {
   "cell_type": "code",
   "execution_count": 18,
   "id": "86107f2e",
   "metadata": {},
   "outputs": [
    {
     "data": {
      "text/plain": [
       "(1680, 24)"
      ]
     },
     "execution_count": 18,
     "metadata": {},
     "output_type": "execute_result"
    }
   ],
   "source": [
    "dattacks.shape"
   ]
  },
  {
   "cell_type": "code",
   "execution_count": 19,
   "id": "64ba6a25",
   "metadata": {},
   "outputs": [
    {
     "name": "stdout",
     "output_type": "stream",
     "text": [
      "<class 'pandas.core.frame.DataFrame'>\n",
      "Int64Index: 1680 entries, 0 to 6265\n",
      "Data columns (total 24 columns):\n",
      " #   Column                  Non-Null Count  Dtype  \n",
      "---  ------                  --------------  -----  \n",
      " 0   case_number             1680 non-null   object \n",
      " 1   date                    1680 non-null   object \n",
      " 2   year                    1680 non-null   float64\n",
      " 3   type                    1680 non-null   object \n",
      " 4   country                 1680 non-null   object \n",
      " 5   area                    1680 non-null   object \n",
      " 6   location                1669 non-null   object \n",
      " 7   activity                1661 non-null   object \n",
      " 8   name                    1678 non-null   object \n",
      " 9   sex                     1680 non-null   object \n",
      " 10  age                     1451 non-null   object \n",
      " 11  injury                  1680 non-null   object \n",
      " 12  fatal_(y/n)             1680 non-null   object \n",
      " 13  time                    1680 non-null   object \n",
      " 14  species                 1680 non-null   object \n",
      " 15  investigator_or_source  1678 non-null   object \n",
      " 16  pdf                     1680 non-null   object \n",
      " 17  href_formula            1680 non-null   object \n",
      " 18  href                    1680 non-null   object \n",
      " 19  case_number_1           1680 non-null   object \n",
      " 20  case_number_2           1680 non-null   object \n",
      " 21  original_order          1680 non-null   float64\n",
      " 22  unnamed_22              0 non-null      object \n",
      " 23  unnamed_23              0 non-null      object \n",
      "dtypes: float64(2), object(22)\n",
      "memory usage: 2.6 MB\n"
     ]
    }
   ],
   "source": [
    "dattacks.info(memory_usage = 'deep')"
   ]
  },
  {
   "cell_type": "code",
   "execution_count": 20,
   "id": "4f0e846f",
   "metadata": {},
   "outputs": [],
   "source": [
    "# now we are going to procede to clean each column we have selected"
   ]
  },
  {
   "cell_type": "code",
   "execution_count": 21,
   "id": "bb717f24",
   "metadata": {},
   "outputs": [],
   "source": [
    "#case"
   ]
  },
  {
   "cell_type": "code",
   "execution_count": 22,
   "id": "27fd9b4a",
   "metadata": {},
   "outputs": [],
   "source": [
    "ca_nu_del =[6265, 6242, 6243]\n",
    "\n",
    "dattacks.drop(ca_nu_del, axis = 0, inplace = True)\n",
    "\n",
    "dattacks['case_number'] = dattacks['case_number'].astype('category')"
   ]
  },
  {
   "cell_type": "code",
   "execution_count": 23,
   "id": "1e556aba",
   "metadata": {},
   "outputs": [],
   "source": [
    "#date"
   ]
  },
  {
   "cell_type": "code",
   "execution_count": 24,
   "id": "a138d272",
   "metadata": {},
   "outputs": [],
   "source": [
    "a=list(dattacks.case_number)\n",
    "\n",
    "bad_date=[]\n",
    "\n",
    "rows_date_del=[]\n",
    "\n",
    "dattacks.date = dattacks.date.str.replace('-', '.')\n",
    "\n",
    "for i in a:\n",
    "    \n",
    "    if '.00' in i:\n",
    "    \n",
    "        i=str(i)\n",
    "        bad_date.append(i)\n",
    "\n",
    "\n",
    "for i in range(len(bad_date)):\n",
    "   \n",
    "    rows_date_del.append(dattacks.index[(dattacks['case_number']==bad_date[i])].tolist())\n",
    "\n",
    "rows_to_del = [j for i in rows_date_del for j in i]\n",
    "\n",
    "dattacks.drop(rows_to_del, axis = 0, inplace = True)\n",
    "\n",
    "dattacks['date'] = dattacks['date'].fillna(dattacks['case_number'])\n",
    "\n",
    "true_dates = []\n",
    "false_dates =list(dattacks.date)\n",
    "false_dates[157] = '20-05-2015'\n",
    "\n",
    "for i in false_dates:\n",
    "    if 'Jan' in i:\n",
    "        i=i.replace('Jan','01')\n",
    "        if 'Reported' in i:\n",
    "            i = i.replace('Reported ','')\n",
    "            true_dates.append(i)\n",
    "        else:\n",
    "            true_dates.append(i)\n",
    "        \n",
    "    elif 'Feb' in i:\n",
    "        i=i.replace('Feb', '02')\n",
    "        if 'Reported' in i:\n",
    "            i = i.replace('Reported ','')\n",
    "            true_dates.append(i)\n",
    "        else:\n",
    "            true_dates.append(i)\n",
    "\n",
    "    elif 'Mar' in i:\n",
    "        i=i.replace('Mar', '03')\n",
    "        if 'Reported' in i:\n",
    "            i = i.replace('Reported ','')\n",
    "            true_dates.append(i)\n",
    "        elif 'or' in i:\n",
    "            i = i.replace(' or 27.03.1925', '')\n",
    "            true_dates.append(i)\n",
    "        else:\n",
    "            true_dates.append(i)\n",
    "        \n",
    "    elif 'Apr' in i:\n",
    "        i=i.replace('Apr', '04')\n",
    "        if 'Reported' in i:\n",
    "            i = i.replace('Reported ','')\n",
    "            true_dates.append(i)\n",
    "        else:\n",
    "            true_dates.append(i)        \n",
    "    elif 'May' in i:\n",
    "        i=i.replace('May', '05')\n",
    "        if 'Reported' in i:\n",
    "            i = i.replace('Reported ','')\n",
    "            true_dates.append(i)\n",
    "        elif 'or' in i:\n",
    "            i = i.replace(' or 30', '')\n",
    "            true_dates.append(i)\n",
    "        elif i == '20-May2015':\n",
    "            i = i.replace('20-May2015', '20-05-2015')\n",
    "            true_dates.append(i)\n",
    "        else:\n",
    "            true_dates.append(i)              \n",
    "    elif 'Jun' in i:\n",
    "        i=i.replace('Jun', '06')\n",
    "        if 'Reported' in i:\n",
    "            i = i.replace('Reported ','')\n",
    "            true_dates.append(i)\n",
    "        else:\n",
    "            true_dates.append(i)              \n",
    "    elif 'Jul' in i:\n",
    "        i=i.replace('Jul', '07')\n",
    "        if 'Reported' in i:\n",
    "            i = i.replace('Reported ','')\n",
    "            true_dates.append(i)\n",
    "        else:\n",
    "            true_dates.append(i)              \n",
    "    elif 'Aug' in i:\n",
    "        i=i.replace('Aug', '08')\n",
    "        if 'Reported' in i:\n",
    "            i = i.replace('Reported ','')\n",
    "            true_dates.append(i)\n",
    "        else:\n",
    "            true_dates.append(i)              \n",
    "    elif 'Sep' in i:\n",
    "        i=i.replace('Sep', '09')\n",
    "        if 'Reported' in i:\n",
    "            i = i.replace('Reported ','')\n",
    "            true_dates.append(i)\n",
    "        else:\n",
    "            true_dates.append(i)              \n",
    "    elif 'Oct' in i:\n",
    "        i=i.replace('Oct', '10')\n",
    "        if 'Reported' in i:\n",
    "            i = i.replace('Reported ','')\n",
    "            true_dates.append(i)\n",
    "        else:\n",
    "            true_dates.append(i)              \n",
    "    elif 'Nov' in i:\n",
    "        i=i.replace('Nov', '11')\n",
    "        if 'Reported' in i:\n",
    "            i = i.replace('Reported ','')\n",
    "            true_dates.append(i)\n",
    "        else:\n",
    "            true_dates.append(i)              \n",
    "    elif 'Dec' in i:\n",
    "        i=i.replace('Dec', '12')\n",
    "        if 'Reported' in i:\n",
    "            i = i.replace('Reported ','')\n",
    "            true_dates.append(i)\n",
    "        elif 'p' in i:\n",
    "            i=i.replace('p', '.')\n",
    "            true_dates.append(i)\n",
    "        else:\n",
    "            true_dates.append(i)  \n",
    "    else:\n",
    "        true_dates.append(i)\n",
    "\n",
    "dattacks['date'].replace(false_dates, true_dates, inplace = True)  \n",
    "\n",
    "tt_date = []\n",
    "\n",
    "for i in true_dates:\n",
    "    if i == '20.May2015':\n",
    "        i = '20-05-2015'\n",
    "        tt_date.append(i)\n",
    "    elif ' ' in i:\n",
    "        i=i.replace(' ', '')\n",
    "        tt_date.append(i)\n",
    "    elif '  ' in i:\n",
    "        i=i.replace('  ', '')\n",
    "        tt_date.append(i)\n",
    "    elif '   ' in i:\n",
    "        i=i.replace('   ', '')\n",
    "        tt_date.append(i)\n",
    "    elif '19002.2010' in i:\n",
    "        i = i.replace('19002.2010','19.02.2010')\n",
    "        tt_date.append(i)\n",
    "    elif '20.May2015' in i:\n",
    "        i = i.replace('20.May2015','20.05.2015')\n",
    "        tt_date.append(i)\n",
    "    elif '24.051922' in i:\n",
    "        i= i.replace('24.051922', '24.05.1922')\n",
    "        tt_date.append(i)\n",
    "    elif '05051979' in i:\n",
    "        i= i.replace('05051979', '05.05.1979')\n",
    "        tt_date.append(i)\n",
    "    elif '04.021993' in i:\n",
    "        i= i.replace('04.021993', '04.02.1993')\n",
    "        tt_date.append(i)\n",
    "    elif '22.07.144' in i:\n",
    "        i= i.replace('22.07.144', '22.07.1944')\n",
    "        tt_date.append(i)\n",
    "    elif len(i)>11:\n",
    "        str=''\n",
    "        for j in range(10):\n",
    "            str = str+i[j]\n",
    "        tt_date.append(str)\n",
    "    else:\n",
    "        tt_date.append(i)\n",
    "        \n",
    "dattacks['date'].replace(true_dates, tt_date, inplace = True)\n",
    "\n",
    "\n",
    "dattacks.drop(421, axis=0, inplace=True)\n",
    "dattacks.drop(423, axis=0, inplace=True)\n",
    "dattacks.drop(3096, axis=0, inplace=True)\n",
    "dattacks.drop(2508, axis=0, inplace=True)\n",
    "dattacks.drop(3048, axis=0, inplace=True)\n",
    "dattacks.drop(5224, axis=0, inplace=True)\n",
    "dattacks.drop(6200, axis = 0, inplace = True)\n",
    "\n",
    "\n",
    "dattacks.date = dattacks.date.str.replace('.', '-')    \n",
    "\n",
    "dattacks['date']=pd.to_datetime(dattacks['date'], format = '%d-%m-%Y')"
   ]
  },
  {
   "cell_type": "code",
   "execution_count": 25,
   "id": "3ec0d113",
   "metadata": {},
   "outputs": [],
   "source": [
    "#year"
   ]
  },
  {
   "cell_type": "code",
   "execution_count": 26,
   "id": "27590d9f",
   "metadata": {},
   "outputs": [],
   "source": [
    "dattacks['year']=pd.to_datetime(dattacks['year'], format = '%Y')"
   ]
  },
  {
   "cell_type": "code",
   "execution_count": 27,
   "id": "fa6c5d9a",
   "metadata": {},
   "outputs": [],
   "source": [
    "#sex"
   ]
  },
  {
   "cell_type": "code",
   "execution_count": 28,
   "id": "4fe0aa36",
   "metadata": {},
   "outputs": [],
   "source": [
    "dattacks.drop(1624, axis = 0, inplace = True)\n",
    "\n",
    "dattacks['sex'] = dattacks['sex'].astype('category')"
   ]
  },
  {
   "cell_type": "code",
   "execution_count": 29,
   "id": "7550ca82",
   "metadata": {},
   "outputs": [
    {
     "data": {
      "text/plain": [
       "(1640, 24)"
      ]
     },
     "execution_count": 29,
     "metadata": {},
     "output_type": "execute_result"
    }
   ],
   "source": [
    "dattacks.shape"
   ]
  },
  {
   "cell_type": "code",
   "execution_count": 30,
   "id": "2dc71ef9",
   "metadata": {},
   "outputs": [],
   "source": [
    "#fatal_(y/n)\n",
    "dattacks['fatal_(y/n)'].value_counts()\n",
    "\n",
    "fatal_false=list(dattacks['fatal_(y/n)'])\n",
    "fatal_true=[]\n",
    "\n",
    "for i in fatal_false:\n",
    "    if ' ' in i:\n",
    "        i = i.replace(' N', 'N')\n",
    "        fatal_true.append(i)\n",
    "    elif 'M' in i:\n",
    "        i = i.replace('M', 'Y')\n",
    "        fatal_true.append(i)\n",
    "    else:\n",
    "        fatal_true.append(i)\n",
    "\n",
    "\n",
    "fatal_true = pd.Series(fatal_true)  \n",
    "\n",
    "dattacks.drop(786, axis=0, inplace=True)\n",
    "dattacks.drop(5270, axis=0, inplace=True)\n",
    "\n",
    "dattacks['fatal_(y/n)'].replace(fatal_false, fatal_true, inplace = True) \n",
    "\n",
    "dattacks['fatal_(y/n)'] = dattacks['fatal_(y/n)'].astype('category')"
   ]
  },
  {
   "cell_type": "code",
   "execution_count": 31,
   "id": "96b39150",
   "metadata": {
    "scrolled": true
   },
   "outputs": [
    {
     "data": {
      "text/plain": [
       "(1638, 24)"
      ]
     },
     "execution_count": 31,
     "metadata": {},
     "output_type": "execute_result"
    }
   ],
   "source": [
    "dattacks.shape"
   ]
  },
  {
   "cell_type": "code",
   "execution_count": 32,
   "id": "19b6c130",
   "metadata": {},
   "outputs": [],
   "source": [
    "#species"
   ]
  },
  {
   "cell_type": "code",
   "execution_count": 33,
   "id": "550940be",
   "metadata": {},
   "outputs": [],
   "source": [
    "species_false = list(dattacks.species.value_counts().index)"
   ]
  },
  {
   "cell_type": "code",
   "execution_count": 34,
   "id": "afde1002",
   "metadata": {},
   "outputs": [],
   "source": [
    "sharks=[]\n",
    "for i in species_false:\n",
    "    i = i.lower()\n",
    "    if 'white' in i:\n",
    "        i = 'white'\n",
    "        sharks.append(i)\n",
    "    elif 'bull' in i or 'leucas' in i:\n",
    "        i ='bull'\n",
    "        sharks.append(i)\n",
    "    elif 'tiger' in i:\n",
    "        i ='tiger'\n",
    "        sharks.append(i)\n",
    "    elif 'bronze whaler' in i:\n",
    "        i ='copper'\n",
    "        sharks.append(i)\n",
    "    elif 'raggedtooth' in i:\n",
    "        i ='raggedtooth'\n",
    "        sharks.append(i)\n",
    "    elif 'blacktip' in i:\n",
    "        i ='blacktip'\n",
    "        sharks.append(i)\n",
    "    elif 'zambesi' in i or 'zambezi' in i:\n",
    "        i ='zambesi'\n",
    "        sharks.append(i)\n",
    "    elif 'nurse' in i:\n",
    "        i ='nurse'\n",
    "        sharks.append(i)\n",
    "    elif 'wobbegong' in i:\n",
    "        i ='wobbegong'\n",
    "        sharks.append(i)\n",
    "    elif 'blue' in i:\n",
    "        i ='blue'\n",
    "        sharks.append(i)\n",
    "    elif 'galapagos' in i:\n",
    "        i ='galapagos'\n",
    "        sharks.append(i)\n",
    "    elif 'mako' in i:\n",
    "        i ='mako'\n",
    "        sharks.append(i)\n",
    "    elif 'caribbean' in i:\n",
    "        i ='caribbean_reef'\n",
    "        sharks.append(i)\n",
    "    elif 'angel' in i:\n",
    "        i ='angel'\n",
    "        sharks.append(i)\n",
    "    elif 'spinner' in i or 'maculpinnis ' in i:\n",
    "        i ='spinner'\n",
    "        sharks.append(i)\n",
    "    elif 'hammerhead' in i:\n",
    "        i ='hammerhead'\n",
    "        sharks.append(i)\n",
    "    elif 'sand' in i:\n",
    "        i ='sand'\n",
    "        sharks.append(i)\n",
    "    elif 'dusky' in i:\n",
    "        i ='dusky'\n",
    "        sharks.append(i)\n",
    "    elif 'lemon' in i:\n",
    "        i ='lemon'\n",
    "        sharks.append(i)\n",
    "    elif 'copper' in i:\n",
    "        i ='copper'\n",
    "        sharks.append(i)\n",
    "    elif 'cookie' in i:\n",
    "        i ='cookie_cutter'\n",
    "        sharks.append(i)\n",
    "    elif 'bronze' in i:\n",
    "        i ='copper'\n",
    "        sharks.append(i)\n",
    "    elif 'thresher' in i:\n",
    "        i ='thresher'\n",
    "        sharks.append(i)\n",
    "    elif 'grey reef' in i or 'grey' in i or 'silky' in i:\n",
    "        i ='grey_reef'\n",
    "        sharks.append(i)\n",
    "    elif 'port jackson' in i:\n",
    "        i ='bull'\n",
    "        sharks.append(i)\n",
    "    elif 'salmon' in i:\n",
    "        i ='salmon'\n",
    "        sharks.append(i)\n",
    "    elif 'broadnose sevengill' in i or 'sevengill' in i or 'broadnose' in i or 'seven-gill' in i or '7-gill' in i:\n",
    "        i ='broadnose_sevengill'\n",
    "        sharks.append(i)\n",
    "    elif 'spotted dogfish' in i:\n",
    "        i ='spotted_dogfish'\n",
    "        sharks.append(i)\n",
    "    elif 'gummy' in i:\n",
    "        i ='gummy'\n",
    "        sharks.append(i)\n",
    "    elif 'horn' in i:\n",
    "        i ='horn'\n",
    "        sharks.append(i)\n",
    "    elif '   ' in i:\n",
    "        i =i\n",
    "        sharks.append(i)\n",
    "    elif 'stingray' in i:\n",
    "        i ='stingray'\n",
    "        sharks.append(i)\n",
    "    elif 'moreno’s leg  & part of his swim suit found in 9\\' shark caught two hours after the attack. identified as carcharhinid shark by l. schultz & c. limbaugh on photograph' in i:\n",
    "        i ='caribbean_reef'\n",
    "        sharks.append(i)\n",
    "    elif 'gangeticus' in i:\n",
    "        i ='ganges'\n",
    "        sharks.append(i)\n",
    "    elif 'whaler' in i:\n",
    "        i ='copper'\n",
    "        sharks.append(i)\n",
    "    elif 'albimarginatus' in i:\n",
    "        i ='whitefin_swellshark'\n",
    "        sharks.append(i)\n",
    "    elif 'gangeticus' in i:\n",
    "        i ='ganges'\n",
    "        sharks.append(i)\n",
    "    elif 'whaler' in i:\n",
    "        i ='copper'\n",
    "        sharks.append(i)\n",
    "    elif 'albimarginatus' in i:\n",
    "        i ='whitefin_swellshark'\n",
    "        sharks.append(i)\n",
    "    elif 'shark' in i or 'sharks' in i or 'undefined' in i or 'unidentified' in i or 'diameter' in i or '1.2 m to 1.5 m [4\\' to 5\\']   shark' in i or ' ' in i:\n",
    "        i = 'unidentified_shark'\n",
    "        sharks.append(i)\n",
    "    else:\n",
    "        sharks.append(i)\n",
    "\n",
    "dattacks['species'].replace(species_false, sharks, inplace = True)\n",
    "\n",
    "dattacks.drop(2336, axis = 0, inplace = True)\n",
    "dattacks.drop(20, axis = 0, inplace = True)\n",
    "dattacks.drop(3800, axis = 0, inplace = True)\n",
    "\n",
    "dattacks['species'] = dattacks['species'].astype('category')"
   ]
  },
  {
   "cell_type": "code",
   "execution_count": 35,
   "id": "6771945a",
   "metadata": {},
   "outputs": [
    {
     "data": {
      "text/plain": [
       "(1635, 24)"
      ]
     },
     "execution_count": 35,
     "metadata": {},
     "output_type": "execute_result"
    }
   ],
   "source": [
    "dattacks.shape"
   ]
  },
  {
   "cell_type": "code",
   "execution_count": 36,
   "id": "07637e0c",
   "metadata": {},
   "outputs": [],
   "source": [
    "#type"
   ]
  },
  {
   "cell_type": "code",
   "execution_count": 37,
   "id": "04233d52",
   "metadata": {},
   "outputs": [],
   "source": [
    "type_false = list(dattacks.type)\n",
    "type_true = []\n",
    "\n",
    "for i in type_false:\n",
    "    if 'Unprovoked' in i:\n",
    "        i = 'Unprovoked'\n",
    "        type_true.append(i)\n",
    "    elif 'Sea' in i:\n",
    "        i = 'Unprovoked'\n",
    "        type_true.append(i)\n",
    "    elif 'Questionable' in i:\n",
    "        i = 'Unprovoked'\n",
    "        type_true.append(i)\n",
    "    elif 'Invalid' in i:\n",
    "        i = 'Unprovoked'\n",
    "        type_true.append(i)\n",
    "    elif 'Boat' in i:\n",
    "        i = 'Provoked'\n",
    "        type_true.append(i)\n",
    "    elif 'Provoked' in i:\n",
    "        i = 'Provoked'\n",
    "        type_true.append(i)\n",
    "    else:\n",
    "        type_true.append(i)\n",
    "\n",
    "dattacks['type'].replace(type_false, type_true, inplace = True)      \n",
    "dattacks['type'] = dattacks['type'].astype('category')"
   ]
  },
  {
   "cell_type": "code",
   "execution_count": 38,
   "id": "0c5c91a5",
   "metadata": {},
   "outputs": [
    {
     "data": {
      "text/plain": [
       "(1635, 24)"
      ]
     },
     "execution_count": 38,
     "metadata": {},
     "output_type": "execute_result"
    }
   ],
   "source": [
    "dattacks.shape"
   ]
  },
  {
   "cell_type": "code",
   "execution_count": 39,
   "id": "22505118",
   "metadata": {},
   "outputs": [],
   "source": [
    "#time"
   ]
  },
  {
   "cell_type": "code",
   "execution_count": 40,
   "id": "2f31e5fc",
   "metadata": {},
   "outputs": [],
   "source": [
    "#zonas: dawn morning afternoon night\n",
    "\n",
    "#morning\n",
    "dattacks.time[dattacks.time.str.startswith('07h')] = 'Morning'\n",
    "dattacks.time[dattacks.time.str.startswith('08h')] = 'Morning'\n",
    "dattacks.time[dattacks.time.str.startswith('09h')] = 'Morning'\n",
    "dattacks.time[dattacks.time.str.startswith('10h')] = 'Morning'\n",
    "dattacks.time[dattacks.time.str.startswith('11h')] = 'Morning'\n",
    "dattacks.time[dattacks.time.str.startswith('12h')] = 'Morning'\n",
    "\n",
    "#afternoon\n",
    "dattacks.time[dattacks.time.str.startswith('13h')] = 'Afternoon'\n",
    "dattacks.time[dattacks.time.str.startswith('14h')] = 'Afternoon'\n",
    "dattacks.time[dattacks.time.str.startswith('15h')] = 'Afternoon'\n",
    "dattacks.time[dattacks.time.str.startswith('16h')] = 'Afternoon'\n",
    "dattacks.time[dattacks.time.str.startswith('17h')] = 'Afternoon'\n",
    "dattacks.time[dattacks.time.str.startswith('18h')] = 'Afternoon'\n",
    "\n",
    "#night\n",
    "dattacks.time[dattacks.time.str.startswith('19h')] = 'Night'\n",
    "dattacks.time[dattacks.time.str.startswith('20h')] = 'Night'\n",
    "dattacks.time[dattacks.time.str.startswith('21h')] = 'Night'\n",
    "dattacks.time[dattacks.time.str.startswith('22h')] = 'Night'\n",
    "dattacks.time[dattacks.time.str.startswith('23h')] = 'Night'\n",
    "dattacks.time[dattacks.time.str.startswith('00h')] = 'Night'\n",
    "\n",
    "\n",
    "#dawn\n",
    "dattacks.time[dattacks.time.str.startswith('01h')] = 'Dawn'\n",
    "dattacks.time[dattacks.time.str.startswith('02h')] = 'Dawn'\n",
    "dattacks.time[dattacks.time.str.startswith('03h')] = 'Dawn'\n",
    "dattacks.time[dattacks.time.str.startswith('04h')] = 'Dawn'\n",
    "dattacks.time[dattacks.time.str.startswith('05h')] = 'Dawn'\n",
    "dattacks.time[dattacks.time.str.startswith('06h')] = 'Dawn'\n",
    "\n",
    "\n",
    "\n",
    "#excepciones\n",
    "dattacks.time[dattacks.time.str.startswith('Evening')] = 'Night'\n",
    "dattacks.time[dattacks.time.str.startswith('A.M.')] = 'Morning'\n",
    "dattacks.time[dattacks.time.str.startswith('Midday')] = 'Morning'\n",
    "dattacks.time[dattacks.time.str.startswith('Dusk')] = 'Night'\n",
    "dattacks.time[dattacks.time.str.startswith('Late afternoon')] = 'Afternoon'\n",
    "dattacks.time[dattacks.time.str.startswith('P.M.')] = 'Afternoon'\n",
    "dattacks.time[dattacks.time.str.startswith('Early morning')] = 'Morning'\n",
    "dattacks.time[dattacks.time.str.startswith('Early afternoon')] = 'Afternoon'\n",
    "dattacks.time[dattacks.time.str.startswith('Late morning')] = 'Morning'\n",
    "dattacks.time[dattacks.time.str.startswith('Late afternoon')] = 'Afternoon'\n",
    "dattacks.time[dattacks.time.str.startswith('Late Afternoon')] = 'Afternoon'\n",
    "dattacks.time[dattacks.time.str.startswith('Midnight')] = 'Night'\n",
    "dattacks.time[dattacks.time.str.startswith('Sunset')] = 'Night'\n",
    "dattacks.time[dattacks.time.str.startswith('Noon')] = 'Morning'\n",
    "dattacks.time[dattacks.time.str.startswith('After noon')] = 'Afternoon'\n",
    "dattacks.time[dattacks.time.str.startswith('Morning ')] = 'Morning'\n",
    "dattacks.time[dattacks.time.str.startswith('\"Night\"')] = 'Night'\n",
    "dattacks.time[dattacks.time.str.startswith('8')] = 'Night'\n",
    "dattacks.time[dattacks.time.str.startswith('9')] = 'Morning'\n",
    "dattacks.time[dattacks.time.str.startswith('\"Evening\"')] = 'Night'\n",
    "dattacks.time[dattacks.time.str.startswith('06j00')] = 'Dawn'\n",
    "dattacks.time[dattacks.time.str.startswith('>06h45')] = 'Dawn'\n",
    "dattacks.time[dattacks.time.str.startswith('Between 06h00 & 07h20')] = 'Dawn'\n",
    "dattacks.time[dattacks.time.str.startswith('Mid-morning')] = 'Morning'\n",
    "dattacks.time[dattacks.time.str.startswith('0830')] = 'Morning'\n",
    "dattacks.time[dattacks.time.str.startswith('Mid-morning')] = 'Morning'\n",
    "dattacks.time[dattacks.time.str.startswith('Shortly after midnight')] = 'Night'\n",
    "dattacks.time[dattacks.time.str.startswith('>14h30')] = 'Afternoon'\n",
    "dattacks.time[dattacks.time.str.startswith('\"After dark\"')] = 'Night'\n",
    "dattacks.time[dattacks.time.str.startswith('Daytime')] = 'Morning'\n",
    "dattacks.time[dattacks.time.str.startswith(' 14h00')] = 'Afternoon'\n",
    "dattacks.time[dattacks.time.str.startswith('Shortly before 13h00')] = 'Morning'\n",
    "dattacks.time[dattacks.time.str.startswith('Early Morning')] = 'Morning'\n",
    "dattacks.time[dattacks.time.str.startswith('1600')] = 'Afternoon'\n",
    "dattacks.time[dattacks.time.str.startswith('Just after 12h00')] = 'Morning'\n",
    "dattacks.time[dattacks.time.str.startswith('Shortly before 12h00')] = 'Morning'\n",
    "dattacks.time[dattacks.time.str.startswith('>08h00')] = 'Morning'\n",
    "dattacks.time[dattacks.time.str.startswith('Just before sundown')] = 'Night'\n",
    "dattacks.time[dattacks.time.str.startswith('\"Just before 11h00\"')] = 'Morning'\n",
    "dattacks.time[dattacks.time.str.startswith('Before 07h00')] = 'Dawn'\n",
    "dattacks.time[dattacks.time.str.startswith('15j45')] = 'Afternoon'\n",
    "dattacks.time[dattacks.time.str.startswith('Lunchtime')] = 'Morning'\n",
    "dattacks.time[dattacks.time.str.startswith('Before 10h30')] = 'Morning'\n",
    "dattacks.time[dattacks.time.str.startswith(' ')] = 'Morning'\n",
    "\n",
    "\n",
    "#limpieza de sobras\n",
    "dattacks.drop(1730, axis = 0, inplace = True)\n",
    "dattacks.drop(1731, axis = 0, inplace = True)\n",
    "dattacks.drop(1790, axis = 0, inplace = True)\n",
    "dattacks.drop(1797, axis = 0, inplace = True)\n",
    "dattacks.drop(2186, axis = 0, inplace = True)\n",
    "dattacks.drop(2710, axis = 0, inplace = True)\n",
    "dattacks.drop(1826, axis = 0, inplace = True)\n",
    "dattacks.drop(5148, axis = 0, inplace = True)\n",
    "dattacks.drop(1855, axis = 0, inplace = True)\n",
    "\n",
    "dattacks['time'] = dattacks['time'].astype('category')"
   ]
  },
  {
   "cell_type": "code",
   "execution_count": 41,
   "id": "bd9be84c",
   "metadata": {
    "scrolled": true
   },
   "outputs": [],
   "source": [
    "#dattacks.info(memory_usage = 'deep')"
   ]
  },
  {
   "cell_type": "code",
   "execution_count": 42,
   "id": "9187c01d",
   "metadata": {},
   "outputs": [
    {
     "data": {
      "text/plain": [
       "(1626, 24)"
      ]
     },
     "execution_count": 42,
     "metadata": {},
     "output_type": "execute_result"
    }
   ],
   "source": [
    "dattacks.shape"
   ]
  },
  {
   "cell_type": "code",
   "execution_count": 43,
   "id": "130638fe",
   "metadata": {},
   "outputs": [],
   "source": [
    "#country"
   ]
  },
  {
   "cell_type": "code",
   "execution_count": 44,
   "id": "2ac4c4c6",
   "metadata": {},
   "outputs": [],
   "source": [
    "country_false = list(dattacks.country)\n",
    "country_true = []\n",
    "for i in country_false:\n",
    "    i =i.capitalize()\n",
    "    country_true.append(i)\n",
    "dattacks['country'].replace(country_false, country_true, inplace = True)\n",
    "dattacks['country'] = dattacks['country'].astype('category')"
   ]
  },
  {
   "cell_type": "code",
   "execution_count": 45,
   "id": "8a02ad6b",
   "metadata": {},
   "outputs": [
    {
     "data": {
      "text/plain": [
       "(1626, 24)"
      ]
     },
     "execution_count": 45,
     "metadata": {},
     "output_type": "execute_result"
    }
   ],
   "source": [
    "dattacks.shape"
   ]
  },
  {
   "cell_type": "code",
   "execution_count": 46,
   "id": "725fb274",
   "metadata": {},
   "outputs": [],
   "source": [
    "#area"
   ]
  },
  {
   "cell_type": "code",
   "execution_count": 47,
   "id": "f001727b",
   "metadata": {},
   "outputs": [],
   "source": [
    "dattacks['area'] = dattacks['area'].astype('category')"
   ]
  },
  {
   "cell_type": "code",
   "execution_count": 48,
   "id": "bb8bf372",
   "metadata": {},
   "outputs": [],
   "source": [
    "#activity (this column we have decided to study while we were cleaning)"
   ]
  },
  {
   "cell_type": "code",
   "execution_count": 50,
   "id": "f1fb2d25",
   "metadata": {},
   "outputs": [],
   "source": [
    "dattacks['activity'] = dattacks['activity'].fillna('unknown')\n",
    "dattacks.loc[dattacks['activity']=='unknown']\n",
    "\n",
    "act_false = list(dattacks.activity)\n",
    "act_true = []\n",
    "\n",
    "\n",
    "\n",
    "for i in act_false:\n",
    "    if 'Surfi' in i or 'surfi' in i:\n",
    "        i = 'Surfing'\n",
    "        act_true.append(i)\n",
    "    elif 'unknown' in i:\n",
    "        i = 'unknown'\n",
    "        act_true.append(i)\n",
    "    elif 'Swimming' in i:\n",
    "        i = 'Swimming'\n",
    "        act_true.append(i)\n",
    "    elif 'Spearfishing' in i:\n",
    "        i = 'Fishing'\n",
    "        act_true.append(i)\n",
    "    elif 'Fishing' in i:\n",
    "        i = 'Fishing'\n",
    "        act_true.append(i)\n",
    "    elif 'Wading' in i:\n",
    "        i = 'Wading'\n",
    "        act_true.append(i)\n",
    "    elif 'Div' in i or 'div' in i:\n",
    "        i = 'Diving'\n",
    "        act_true.append(i)\n",
    "    elif 'Treading' in i or 'Float' in i or 'Bathing':\n",
    "        i = 'Bathing'\n",
    "        act_true.append(i)\n",
    "    else:\n",
    "        act_true.append(i)\n",
    "            \n",
    "dattacks['activity'].replace(act_false, act_true, inplace = True)\n",
    "dattacks.drop(dattacks[dattacks.activity=='unknown'].index, axis=0, inplace=True)\n",
    "dattacks['activity'] = dattacks['activity'].astype('category')"
   ]
  },
  {
   "cell_type": "code",
   "execution_count": null,
   "id": "6e11e51b",
   "metadata": {},
   "outputs": [],
   "source": [
    "# once the columns we are interested in have been cleaned, we are going to clear the rest to make them more uniform "
   ]
  },
  {
   "cell_type": "code",
   "execution_count": null,
   "id": "b7220b22",
   "metadata": {},
   "outputs": [],
   "source": [
    "#location"
   ]
  },
  {
   "cell_type": "code",
   "execution_count": 55,
   "id": "efefb294",
   "metadata": {},
   "outputs": [],
   "source": [
    "location_false = list(dattacks.location)\n",
    "location_true = []\n",
    "\n",
    "for i in location_false:\n",
    "    i = 'unknown'\n",
    "    location_true.append(i)\n",
    "    \n",
    "dattacks['location'].replace(location_false, location_true, inplace = True)\n",
    "dattacks['location'] = dattacks['location'].astype('category')\n",
    "    "
   ]
  },
  {
   "cell_type": "code",
   "execution_count": 56,
   "id": "c7948633",
   "metadata": {},
   "outputs": [
    {
     "name": "stdout",
     "output_type": "stream",
     "text": [
      "<class 'pandas.core.frame.DataFrame'>\n",
      "Int64Index: 1607 entries, 0 to 6021\n",
      "Data columns (total 24 columns):\n",
      " #   Column                  Non-Null Count  Dtype         \n",
      "---  ------                  --------------  -----         \n",
      " 0   case_number             1607 non-null   category      \n",
      " 1   date                    1607 non-null   datetime64[ns]\n",
      " 2   year                    1607 non-null   datetime64[ns]\n",
      " 3   type                    1607 non-null   category      \n",
      " 4   country                 1607 non-null   category      \n",
      " 5   area                    1607 non-null   category      \n",
      " 6   location                1607 non-null   category      \n",
      " 7   activity                1607 non-null   category      \n",
      " 8   name                    1605 non-null   object        \n",
      " 9   sex                     1607 non-null   category      \n",
      " 10  age                     1391 non-null   object        \n",
      " 11  injury                  1607 non-null   object        \n",
      " 12  fatal_(y/n)             1607 non-null   category      \n",
      " 13  time                    1607 non-null   category      \n",
      " 14  species                 1607 non-null   category      \n",
      " 15  investigator_or_source  1605 non-null   object        \n",
      " 16  pdf                     1607 non-null   object        \n",
      " 17  href_formula            1607 non-null   object        \n",
      " 18  href                    1607 non-null   object        \n",
      " 19  case_number_1           1607 non-null   object        \n",
      " 20  case_number_2           1607 non-null   object        \n",
      " 21  original_order          1607 non-null   float64       \n",
      " 22  unnamed_22              0 non-null      object        \n",
      " 23  unnamed_23              0 non-null      object        \n",
      "dtypes: category(10), datetime64[ns](2), float64(1), object(11)\n",
      "memory usage: 1.6 MB\n"
     ]
    }
   ],
   "source": [
    "dattacks.info(memory_usage ='deep')"
   ]
  },
  {
   "cell_type": "code",
   "execution_count": 57,
   "id": "c00c83b5",
   "metadata": {},
   "outputs": [],
   "source": [
    "#age"
   ]
  },
  {
   "cell_type": "code",
   "execution_count": 70,
   "id": "2024495d",
   "metadata": {},
   "outputs": [],
   "source": [
    "dattacks['age'] = dattacks['age'].fillna(0)\n",
    "\n",
    "age_false = list(dattacks.age)\n",
    "age_true = []\n",
    "\n",
    "for i in age_false:\n",
    "    i = 0\n",
    "    age_true.append(i)\n",
    "    \n",
    "dattacks['age'].replace(age_false, age_true, inplace = True)\n",
    "dattacks['age'] = dattacks['age'].astype('int8')"
   ]
  },
  {
   "cell_type": "code",
   "execution_count": 72,
   "id": "1246fe03",
   "metadata": {},
   "outputs": [],
   "source": [
    "#name"
   ]
  },
  {
   "cell_type": "code",
   "execution_count": 73,
   "id": "18b7e4ea",
   "metadata": {},
   "outputs": [],
   "source": [
    "dattacks['name'] = dattacks['name'].fillna('unknown')\n",
    "\n",
    "name_false = list(dattacks.name)\n",
    "name_true = []\n",
    "\n",
    "for i in name_false:\n",
    "    i = 'unknown'\n",
    "    name_true.append(i)\n",
    "    \n",
    "dattacks['name'].replace(name_false, name_true, inplace = True)\n",
    "dattacks['name'] = dattacks['name'].astype('category')"
   ]
  },
  {
   "cell_type": "code",
   "execution_count": 75,
   "id": "819344dc",
   "metadata": {},
   "outputs": [],
   "source": [
    "#injury"
   ]
  },
  {
   "cell_type": "code",
   "execution_count": 76,
   "id": "c597b25b",
   "metadata": {},
   "outputs": [],
   "source": [
    "dattacks['injury'] = dattacks['injury'].fillna('unknown')\n",
    "\n",
    "inj_false = list(dattacks.injury)\n",
    "inj_true = []\n",
    "\n",
    "for i in inj_false:\n",
    "    i = 'unknown'\n",
    "    inj_true.append(i)\n",
    "    \n",
    "dattacks['injury'].replace(inj_false, inj_true, inplace = True)\n",
    "dattacks['injury'] = dattacks['injury'].astype('category')"
   ]
  },
  {
   "cell_type": "code",
   "execution_count": 77,
   "id": "4f448348",
   "metadata": {},
   "outputs": [],
   "source": [
    "#investigator_or_source"
   ]
  },
  {
   "cell_type": "code",
   "execution_count": 78,
   "id": "4412a42a",
   "metadata": {},
   "outputs": [],
   "source": [
    "dattacks['investigator_or_source'] = dattacks['investigator_or_source'].fillna('unknown')\n",
    "\n",
    "inv_false = list(dattacks.investigator_or_source)\n",
    "inv_true = []\n",
    "\n",
    "for i in inv_false:\n",
    "    i = 'unknown'\n",
    "    inv_true.append(i)\n",
    "    \n",
    "dattacks['investigator_or_source'].replace(inv_false, inv_true, inplace = True)\n",
    "dattacks['investigator_or_source'] = dattacks['investigator_or_source'].astype('category')"
   ]
  },
  {
   "cell_type": "code",
   "execution_count": 80,
   "id": "79c83e19",
   "metadata": {},
   "outputs": [],
   "source": [
    "#pdf"
   ]
  },
  {
   "cell_type": "code",
   "execution_count": 82,
   "id": "658bd36d",
   "metadata": {},
   "outputs": [],
   "source": [
    "dattacks['pdf'] = dattacks['pdf'].fillna('unknown')\n",
    "\n",
    "p_false = list(dattacks.pdf)\n",
    "p_true = []\n",
    "\n",
    "for i in p_false:\n",
    "    i = 'unknown'\n",
    "    p_true.append(i)\n",
    "    \n",
    "dattacks['pdf'].replace(p_false, p_true, inplace = True)\n",
    "dattacks['pdf'] = dattacks['pdf'].astype('category')"
   ]
  },
  {
   "cell_type": "code",
   "execution_count": null,
   "id": "1f681a58",
   "metadata": {},
   "outputs": [],
   "source": [
    "#hred_formula"
   ]
  },
  {
   "cell_type": "code",
   "execution_count": 84,
   "id": "afcadceb",
   "metadata": {},
   "outputs": [],
   "source": [
    "dattacks['href_formula'] = dattacks['href_formula'].fillna('unknown')\n",
    "\n",
    "hrf_false = list(dattacks.href_formula)\n",
    "hrf_true = []\n",
    "\n",
    "for i in hrf_false:\n",
    "    i = 'unknown'\n",
    "    hrf_true.append(i)\n",
    "    \n",
    "dattacks['href_formula'].replace(hrf_false, hrf_true, inplace = True)\n",
    "dattacks['href_formula'] = dattacks['href_formula'].astype('category')"
   ]
  },
  {
   "cell_type": "code",
   "execution_count": 85,
   "id": "3503f659",
   "metadata": {},
   "outputs": [],
   "source": [
    "#href "
   ]
  },
  {
   "cell_type": "code",
   "execution_count": 87,
   "id": "9c7e12e4",
   "metadata": {},
   "outputs": [],
   "source": [
    "dattacks['href'] = dattacks['href'].fillna('unknown')\n",
    "\n",
    "hr_false = list(dattacks.href)\n",
    "hr_true = []\n",
    "\n",
    "for i in hr_false:\n",
    "    i = 'unknown'\n",
    "    hr_true.append(i)\n",
    "    \n",
    "dattacks['href'].replace(hr_false, hr_true, inplace = True)\n",
    "dattacks['href'] = dattacks['href'].astype('category')"
   ]
  },
  {
   "cell_type": "code",
   "execution_count": null,
   "id": "538939da",
   "metadata": {},
   "outputs": [],
   "source": []
  },
  {
   "cell_type": "code",
   "execution_count": null,
   "id": "87a9c4ce",
   "metadata": {},
   "outputs": [],
   "source": []
  },
  {
   "cell_type": "code",
   "execution_count": null,
   "id": "c4ca33fc",
   "metadata": {},
   "outputs": [],
   "source": []
  },
  {
   "cell_type": "code",
   "execution_count": null,
   "id": "6772c697",
   "metadata": {},
   "outputs": [],
   "source": []
  },
  {
   "cell_type": "code",
   "execution_count": null,
   "id": "a5fb52ae",
   "metadata": {},
   "outputs": [],
   "source": []
  },
  {
   "cell_type": "code",
   "execution_count": null,
   "id": "a4ce5783",
   "metadata": {},
   "outputs": [],
   "source": []
  },
  {
   "cell_type": "code",
   "execution_count": null,
   "id": "bbc5c9e6",
   "metadata": {},
   "outputs": [],
   "source": []
  },
  {
   "cell_type": "code",
   "execution_count": null,
   "id": "61c4093e",
   "metadata": {},
   "outputs": [],
   "source": []
  },
  {
   "cell_type": "code",
   "execution_count": 88,
   "id": "5a7eaa7d",
   "metadata": {},
   "outputs": [
    {
     "name": "stdout",
     "output_type": "stream",
     "text": [
      "<class 'pandas.core.frame.DataFrame'>\n",
      "Int64Index: 1607 entries, 0 to 6021\n",
      "Data columns (total 24 columns):\n",
      " #   Column                  Non-Null Count  Dtype         \n",
      "---  ------                  --------------  -----         \n",
      " 0   case_number             1607 non-null   category      \n",
      " 1   date                    1607 non-null   datetime64[ns]\n",
      " 2   year                    1607 non-null   datetime64[ns]\n",
      " 3   type                    1607 non-null   category      \n",
      " 4   country                 1607 non-null   category      \n",
      " 5   area                    1607 non-null   category      \n",
      " 6   location                1607 non-null   category      \n",
      " 7   activity                1607 non-null   category      \n",
      " 8   name                    1607 non-null   category      \n",
      " 9   sex                     1607 non-null   category      \n",
      " 10  age                     1607 non-null   int8          \n",
      " 11  injury                  1607 non-null   category      \n",
      " 12  fatal_(y/n)             1607 non-null   category      \n",
      " 13  time                    1607 non-null   category      \n",
      " 14  species                 1607 non-null   category      \n",
      " 15  investigator_or_source  1607 non-null   category      \n",
      " 16  pdf                     1607 non-null   category      \n",
      " 17  href_formula            1607 non-null   category      \n",
      " 18  href                    1607 non-null   category      \n",
      " 19  case_number_1           1607 non-null   object        \n",
      " 20  case_number_2           1607 non-null   object        \n",
      " 21  original_order          1607 non-null   float64       \n",
      " 22  unnamed_22              0 non-null      object        \n",
      " 23  unnamed_23              0 non-null      object        \n",
      "dtypes: category(16), datetime64[ns](2), float64(1), int8(1), object(4)\n",
      "memory usage: 602.5 KB\n"
     ]
    }
   ],
   "source": [
    "dattacks.info(memory_usage ='deep')"
   ]
  },
  {
   "cell_type": "code",
   "execution_count": null,
   "id": "ad31b002",
   "metadata": {},
   "outputs": [],
   "source": []
  }
 ],
 "metadata": {
  "kernelspec": {
   "display_name": "Python 3 (ipykernel)",
   "language": "python",
   "name": "python3"
  },
  "language_info": {
   "codemirror_mode": {
    "name": "ipython",
    "version": 3
   },
   "file_extension": ".py",
   "mimetype": "text/x-python",
   "name": "python",
   "nbconvert_exporter": "python",
   "pygments_lexer": "ipython3",
   "version": "3.9.12"
  }
 },
 "nbformat": 4,
 "nbformat_minor": 5
}
